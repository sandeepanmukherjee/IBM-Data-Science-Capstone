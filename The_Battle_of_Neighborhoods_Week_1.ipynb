{
    "cells": [
        {
            "metadata": {
                "collapsed": true
            },
            "cell_type": "markdown",
            "source": "# Capstone Project - The Battle of the Neighborhoods City- Cologne"
        },
        {
            "metadata": {},
            "cell_type": "markdown",
            "source": "### Cologne City New Restaurant Business Recommendation\n**Sandeepan Mukherjee**\n\n***March 2021***"
        },
        {
            "metadata": {},
            "cell_type": "markdown",
            "source": "### Introduction: Business Problem"
        },
        {
            "metadata": {},
            "cell_type": "markdown",
            "source": "Cologne is a city near which the author lives nearby, and it is well-known for its cathedral, trade fairs and conferences, shopping boulevard, and lively party scene. Since it draws a massive amount of visitors, there is a large business potential for restaurants because there is never a lack of people from all over Europe and the world visiting the beautiful region. So ther is wide variety of cousines and restaurants one can chose to start their business venture into.\nThus, the goal I want to reach with this exercise is to give a simple recommendation to businesses and stakeholders who are looking to open a new restaurant in Cologne and solve issues like in which district of the city will you find a large number or even concentration of which types of restaurants? Where to open a Mediterranean food, German food, or where to get fast food and the list of competitors in that area. The target audience is Food Entrepreneurs and Business owners."
        },
        {
            "metadata": {},
            "cell_type": "markdown",
            "source": "### Data"
        },
        {
            "metadata": {},
            "cell_type": "markdown",
            "source": "\nAs mentioned in the project requirements, I will use foursquare data about restaurants in Cologne. Foursquare is a US tech company from New York focusing on location data. Their technology and data powers apps such as Apple's Maps, Uber, Twitter and many other household names. Here is an example of a restaurants in Cologne on foursquare: https://de.foursquare.com/v/sattgr%C3%BCn/5c33306cc824ae002c2b414c. I will use foursquare data such as the restaurant name, ID, location and category of food (vegetarian, Italian etc.).\n\nAlso, I will use the overview of districts/city parts of Cologne from Wikipedia: https://en.wikipedia.org/wiki/Districts_of_Cologne \n\nBased on this criterion, we will use Data science Python libraries to create a few promising neighborhoods. The benefits of each region can then be specifically articulated so that stakeholders will choose the best possible final spot."
        },
        {
            "metadata": {},
            "cell_type": "code",
            "source": "",
            "execution_count": null,
            "outputs": []
        }
    ],
    "metadata": {
        "kernelspec": {
            "name": "python3",
            "display_name": "Python 3.7",
            "language": "python"
        },
        "language_info": {
            "name": "python",
            "version": "3.7.10",
            "mimetype": "text/x-python",
            "codemirror_mode": {
                "name": "ipython",
                "version": 3
            },
            "pygments_lexer": "ipython3",
            "nbconvert_exporter": "python",
            "file_extension": ".py"
        }
    },
    "nbformat": 4,
    "nbformat_minor": 1
}